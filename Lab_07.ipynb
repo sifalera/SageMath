{
 "cells": [
  {
   "cell_type": "markdown",
   "metadata": {},
   "source": [
    "## Συμβολικές Μεταβλητές\n",
    "Στα μαθηματικά, μια μεταβλητή είναι μια αυθαίρετη ή άγνωστη τιμή την οποία συνήθως αναπαριστούμε με κάποιο αλφαβητικό χαρακτήρα πχ: $x$, $y$, $z$, κλπ. Τέτοιες μεταβλητές ονομάζονται συμβολικές μεταβλητές στο SageMath και οι αντίστοιχες παραστάσεις που τις περιέχουν καλούνται συμβολικές παραστάσεις. Το SageMath επιτρέπει τη δημιουργία συμβολικών μεταβλητών με τη συνάρτηση `var()` και μπορεί να κάνει υπολογισμούς με παραστάσεις που περιέχουν συμβολικές μεταβλητές όπως: $x+y+z$ ή $\\mathrm{sin⁡}(x)+\\mathrm{cos}(x)$. Οι συμβολικές μεταβλητές πρέπει να δηλωθούν ρητά πρωτού χρησιμοποιηθούν."
   ]
  },
  {
   "cell_type": "code",
   "execution_count": null,
   "metadata": {},
   "outputs": [],
   "source": [
    "# Δηλώνουμε τις συμβολικές μεταβλητές x, y και z.\n",
    "var(\"x, y, z\")\n",
    "\n",
    "# Δημιουργούμε μια συμβολική παράσταση.\n",
    "expr = (x+x)^2+2*y+z\n",
    "\n",
    "print(expr)"
   ]
  },
  {
   "cell_type": "markdown",
   "metadata": {},
   "source": [
    "Το SageMath όταν μετασχηματίζει μια παράσταση όπως πχ: την $x + x$ σε $2x$, μεταχειρίζεται τη μεταβλητή $x$ ως σύμβολο.\n",
    "\n",
    "Ο τύπος των συμβολικών μεταβλητών και παραστάσεων είναι:"
   ]
  },
  {
   "cell_type": "code",
   "execution_count": null,
   "metadata": {},
   "outputs": [],
   "source": [
    "print( type(x) )\n",
    "print( type(expr) )"
   ]
  },
  {
   "cell_type": "markdown",
   "metadata": {},
   "source": [
    "και ανήκουν στον συμβολικό \"δακτύλιο\" `SR` (σύντμιση του Symbolic Ring):"
   ]
  },
  {
   "cell_type": "code",
   "execution_count": null,
   "metadata": {},
   "outputs": [],
   "source": [
    "parent(x)"
   ]
  },
  {
   "cell_type": "markdown",
   "metadata": {},
   "source": [
    "Στο δακτύλιο αυτό ανήκουν επίσης γνωστές μαθηματικές σταθερές όπως το $\\pi$, το $e$ ή το $i$:"
   ]
  },
  {
   "cell_type": "code",
   "execution_count": null,
   "metadata": {},
   "outputs": [],
   "source": [
    "pi in SR  # ο λόγος της περιφέρειας ενός κύκλου προς τη διάμετρό του (περίπου 3.14)"
   ]
  },
  {
   "cell_type": "code",
   "execution_count": null,
   "metadata": {},
   "outputs": [],
   "source": [
    "e in SR   # η βάση των νεπέριων λογαρίθμων (περίπου 2.71)"
   ]
  },
  {
   "cell_type": "code",
   "execution_count": null,
   "metadata": {},
   "outputs": [],
   "source": [
    "sqrt(-1) in SR   # sqrt(-1) είναι η φανταστική μονάδα που συναντάμε στους μιγαδικούς αριθμούς"
   ]
  },
  {
   "cell_type": "markdown",
   "metadata": {},
   "source": [
    "Ακόμη, οποιοσδήποτε αριθμός από το $\\mathbb{C}$ ή τα υποσύνολά του ανήκει επίσης στον `SR`:"
   ]
  },
  {
   "cell_type": "code",
   "execution_count": null,
   "metadata": {},
   "outputs": [],
   "source": [
    "1 in SR"
   ]
  },
  {
   "cell_type": "code",
   "execution_count": null,
   "metadata": {},
   "outputs": [],
   "source": [
    "1/3 in SR"
   ]
  },
  {
   "cell_type": "code",
   "execution_count": null,
   "metadata": {},
   "outputs": [],
   "source": [
    "type(sqrt(2))"
   ]
  },
  {
   "cell_type": "code",
   "execution_count": null,
   "metadata": {},
   "outputs": [],
   "source": [
    "1.2 in SR"
   ]
  },
  {
   "cell_type": "code",
   "execution_count": null,
   "metadata": {},
   "outputs": [],
   "source": [
    "CC(1,1) in SR   # Ο μιγαδικός 1+i"
   ]
  },
  {
   "cell_type": "markdown",
   "metadata": {},
   "source": [
    "<b>Σημείωση:</b> Το SageMath εξ ορισμού θεωρεί το `x` ως συμβολική μεταβλητή (επομένως δε χρειάζεται να δηλώσουμε ρητά `var('x')` για να το χρησιμοποιήσουμε). Φυσικά, εάν θέλουμε  να αναθέσουμε διαφορετικό ρόλο στη μεταβλητή `x`, μπορούμε να το κάνουμε χειροκίνητα."
   ]
  },
  {
   "cell_type": "markdown",
   "metadata": {},
   "source": [
    "### Συμβολικές εξισώσεις/ανισώσεις\n",
    "\n",
    "Οι συγκριτικοί τελεστές `==`, `!=`, `>`, `>=`, `<` και `<=` είναι υπερφορτωμένοι για συμβολικές παραστάσεις και μας επιτρέπουν να δημιουργούμε συμβολικές εξισώσεις/ανισώσεις."
   ]
  },
  {
   "cell_type": "code",
   "execution_count": null,
   "metadata": {},
   "outputs": [],
   "source": [
    "# Μια συμβολική εξίσωση\n",
    "(x + 1)^2 == x^2 + 2*x + 1"
   ]
  },
  {
   "cell_type": "markdown",
   "metadata": {},
   "source": [
    "Εάν θέλουμε το SageMath να ελέγξει αν όντως η παραπάνω σχέση ισχύει, τότε πρέπει να κάνουμε μετατροπή σε `bool`:"
   ]
  },
  {
   "cell_type": "code",
   "execution_count": null,
   "metadata": {},
   "outputs": [],
   "source": [
    "bool((x + 1)^2 == x^2 + 2*x + 1)"
   ]
  },
  {
   "cell_type": "markdown",
   "metadata": {},
   "source": [
    "Εδώ το SageMath θα επιχειρήσει να εφαρμόσει μια σειρά από μετασχηματισμούς στην παραπάνω παράσταση, προσπαθώντας να αποφανθεί αν είναι `True` ή `False`."
   ]
  },
  {
   "cell_type": "code",
   "execution_count": null,
   "metadata": {},
   "outputs": [],
   "source": [
    "((x + 1)^2).expand()"
   ]
  },
  {
   "cell_type": "code",
   "execution_count": null,
   "metadata": {},
   "outputs": [],
   "source": [
    "# Μια συμβολική ανίσωση\n",
    "3*x^2 - 5*x + 1 >= 0"
   ]
  },
  {
   "cell_type": "code",
   "execution_count": null,
   "metadata": {},
   "outputs": [],
   "source": [
    "# Μια συμβολική ανίσωση με 2 μεταβλητές\n",
    "var('u, v')\n",
    "9*u - 5*v + 2 >= 0"
   ]
  },
  {
   "cell_type": "markdown",
   "metadata": {},
   "source": [
    "Οι συμβολικές εξισώσεις/ανισώσεις είναι επίσης συμβολικές παραστάσεις (στοιχεία του `SR`):"
   ]
  },
  {
   "cell_type": "code",
   "execution_count": null,
   "metadata": {},
   "outputs": [],
   "source": [
    "type(3*x^2 - 5*x + 1 >= 0)"
   ]
  },
  {
   "cell_type": "markdown",
   "metadata": {},
   "source": [
    "Για να υπολογίσουμε την τιμή μιας συμβολικής παράστασης για συγκεκριμένες τιμές, χρησιμοποιούμε τη μέθοδο `substitute` για να τις μεταβιβάζουμε ως ορίσματα στις αντίστοιχες παραμέτρους."
   ]
  },
  {
   "cell_type": "code",
   "execution_count": null,
   "metadata": {},
   "outputs": [],
   "source": [
    "var('x, y, z')\n",
    "f = x^3 + y^2 + z     # Η συμβολική παράσταση x^3 + y^2 + z αποθηκεύεται στη μεταβλητή f\n",
    "f.substitute(z == 0)  # Η τιμή της παράστασης για z=0"
   ]
  },
  {
   "cell_type": "markdown",
   "metadata": {},
   "source": [
    "### Συμβολικές Συναρτήσεις\n",
    "\n",
    "Ακόμη, το SageMath μας επιτρέπει να δημιουργούμε συμβολικές συναρτήσεις για το χειρισμό παραστάσεων. Οι συμβολικές συναρτήσεις αναπαριστούν στην πραγματικότητα τις μαθηματικές συναρτήσεις (απεικονίσεις) και διαφέρουν από τις προγραμματιστικές συναρτήσεις (υποπρογράμματα). Η σειρά των μεταβλητών σε μια συμβολική παράσταση είναι καθορισμένη (fixed).\n",
    "Η μετατροπή μιας συμβολικής παράστασης σε συμβολική συνάρτηση γίνεται είτε με τη μέθοδο `function` των συμβολικών παραστάσεων, είτε με μια ανάθεση της μορφής `f(x) = ...`"
   ]
  },
  {
   "cell_type": "code",
   "execution_count": null,
   "metadata": {},
   "outputs": [],
   "source": [
    "var('x')\n",
    "f(x) = (2*x + 1)^3   # Μια συμβολική συνάρτηση\n",
    "f(-3)                # η τιμή της f για x=-3"
   ]
  },
  {
   "cell_type": "code",
   "execution_count": null,
   "metadata": {},
   "outputs": [],
   "source": [
    "var('x, y')\n",
    "\n",
    "u = sin(x) + x*cos(y)   # συμβολική παράσταση\n",
    "print(u)\n",
    "\n",
    "v = u.function(x, y)    # συμβολική συνάρτηση (1ος τρόπος)\n",
    "print(v)\n",
    "\n",
    "w(x, y) = u             # συμβολική συνάρτηση (2ος τρόπος)\n",
    "print(w)"
   ]
  },
  {
   "cell_type": "code",
   "execution_count": null,
   "metadata": {},
   "outputs": [],
   "source": [
    "type(w)"
   ]
  },
  {
   "cell_type": "markdown",
   "metadata": {},
   "source": [
    "Μια συμβολική συνάρτηση μπορεί να χρησιμοποιηθεί όπως μία έκφραση, κάτι το οποίο δεν είναι αληθές για τις συναρτήσεις της Python."
   ]
  },
  {
   "cell_type": "markdown",
   "metadata": {},
   "source": [
    "### Συστήματα συμβολικών εξισώσεων/ανισώσεων\n",
    "\n",
    "Το SageMath μας δίνει τη δυνατότητα να δημιουργούμε συστήματα συμβολικών εξισώσεων/ανισώσεων και να τα επιλύουμε.\n",
    "Ένα σύστημα εξισώσεων/ανισώσεων μπορεί να αναπαρασταθεί ως μια λίστα από συμβολικές εξισώσεις/ανισώσεις."
   ]
  },
  {
   "cell_type": "code",
   "execution_count": null,
   "metadata": {},
   "outputs": [],
   "source": [
    "var('x, y, z')   # Οι άγνωστοι του συστήματος\n",
    "eqns = [x+2*y+3*z==0, x-2*y+z==1, -x+4*y+z==2]   # Το σύστημα των εξισώσεων\n",
    "eqns"
   ]
  },
  {
   "cell_type": "markdown",
   "metadata": {},
   "source": [
    "#### Επίλυση συστημάτων από αλγεβρικές εξισώσεις/ανισώσεις:\n",
    "\n",
    "Η συνάρτηση `solve` δέχεται μια εξίσωση/ανίσωση ή ένα σύστημα εξισώσεων και/ή ανισώσεων ως λίστα (ή πλειάδα) και μια σειρά από συμβολικές μεταβλητές ως προς τις οποίες θέλουμε να γίνει η επίλυση.\n",
    "\n",
    "<table>\n",
    "    <tr>\n",
    "        <td>`solve(eqn, var)`</td>\n",
    "        <td>Λύνει την `eqn` ως προς τη μεταβλητή `var`</td>\n",
    "    </tr>\n",
    "    <tr>\n",
    "        <td>`solve([eqn1, eqn2, ..., eqnn], vars)`</td>\n",
    "        <td>Λύνει το σύστημα ως προς τις μεταβλητές `vars`</td>\n",
    "    </tr>\n",
    "</table>"
   ]
  },
  {
   "cell_type": "markdown",
   "metadata": {},
   "source": [
    "<b>Παράδειγμα:</b> Να βρεθούν οι τιμές της πραγματικής μεταβλητής $x$ για τις οποίες ικανοποιείται η σχέση $x^2 - 1 = 0$."
   ]
  },
  {
   "cell_type": "code",
   "execution_count": null,
   "metadata": {},
   "outputs": [],
   "source": [
    "solve(x^2 - 1 == 0, x)"
   ]
  },
  {
   "cell_type": "markdown",
   "metadata": {},
   "source": [
    "<b>Παράδειγμα:</b> Να βρεθούν οι τιμές της πραγματικής μεταβλητής $x$ για τις οποίες ικανοποιούνται οι ανισοτικές σχέσεις: $x + 3 \\geq 0$ και $x < 10$."
   ]
  },
  {
   "cell_type": "code",
   "execution_count": null,
   "metadata": {},
   "outputs": [],
   "source": [
    "solve([x + 3 >= 0, x < 10], x)"
   ]
  },
  {
   "cell_type": "markdown",
   "metadata": {},
   "source": [
    "<b>Παράδειγμα:</b> Να βρεθούν οι τιμές των $x, y$ για τις οποίες ικανοποιείται το σύστημα:\n",
    "\n",
    "$$\n",
    "\\left\\{\n",
    "\\begin{alignat*}{4}\n",
    "2x & {}+{} &  3y & {}-{} &  z  == 1 \\\\\n",
    "x &  &     & {}-{} &  z  == 2 \\\\\n",
    "-x & {}+{}  &  3y   & {}+{} &  z  == 3 \\\\\n",
    "\\end{alignat*}\n",
    "\\right.\n",
    "$$"
   ]
  },
  {
   "cell_type": "code",
   "execution_count": null,
   "metadata": {},
   "outputs": [],
   "source": [
    "var('x, y, z')   # Οι άγνωστοι του συστήματος\n",
    "eqns = [2*x+3*y-z==1, x-z==2, -x+3*y+z==3]   # Το σύστημα\n",
    "solve(eqns, (x,y,z))   # Επίλυση του συστήματος ως προς x,y,z"
   ]
  },
  {
   "cell_type": "markdown",
   "metadata": {},
   "source": [
    "## Γραμμικά Αλγεβρικά Συστήματα και Πίνακες\n",
    "Η ισότητα και ο πολ/σμός πινάκων, έτσι όπως ορίστηκαν, μας παρέχουν τη δυνατότητα μιας βολικής αναπαράστασης ενός συστήματος γραμμικών εξισώσεων στη μορφή $AX = b$, όπου: $A$ είναι ο πίνακας των συντελεστών των αγνώστων, $X$ ο πίνακας-στήλη (δηλ. διάνυσμα) των αγνώστων του συστήματος και $b$ το διάνυσμα με τα δεξιά μέλη του συστήματος (τους σταθερούς όρους). Για παράδειγμα, θεωρήστε το γραμμικό αλγεβρικό σύστημα:\n",
    "\n",
    "$$\n",
    "\\left\\{\n",
    "\\begin{alignat*}{6}\n",
    "3x & {}+{} &  3y & {}-{} &  z  & {}+{} 4w & {}-{} & 2t & {}={} & 14 \\\\\n",
    " x & {}-{} &  y  & {}+{} & 7z  & {}-{} w  & & & {}={} &  -2 \\\\\n",
    "5x & {}+{} & y   & {}+{} & 13z & {}+{} 2w & {}-{} & 2t & {}={} & 10 \\\\\n",
    "2x & {}+{} & 4y  & {}-{} & 8z  & {}+{} 5w & {}-{} & 2t & {}={} & 16\n",
    "\\end{alignat*}\n",
    "\\right.\n",
    "$$\n",
    "\n",
    "αυτό μπορεί να γραφεί στη μορφή:\n",
    "\n",
    "$$\n",
    "\\begin{bmatrix}\n",
    "3 & 3  & -1 & 4  & -2 \\\\\n",
    "1 & -1 & 7  & -1 & 0  \\\\\n",
    "5 & 1  & 13 & 2  & -2 \\\\\n",
    "2 & 4  & -8 & 5  & -2\n",
    "\\end{bmatrix}\n",
    "\\cdot\n",
    "\\begin{bmatrix}\n",
    "x \\\\\n",
    "y \\\\\n",
    "z \\\\\n",
    "w \\\\\n",
    "t\n",
    "\\end{bmatrix}\n",
    "=\n",
    "\\begin{bmatrix}\n",
    "14 \\\\\n",
    "-2 \\\\\n",
    "10 \\\\\n",
    "16\n",
    "\\end{bmatrix}\n",
    "$$\n",
    "\n",
    "δηλαδή:\n",
    "$$\n",
    "A = \\begin{bmatrix}\n",
    "3 & 3  & -1 & 4  & -2 \\\\\n",
    "1 & -1 & 7  & -1 & 0  \\\\\n",
    "5 & 1  & 13 & 2  & -2 \\\\\n",
    "2 & 4  & -8 & 5  & -2\n",
    "\\end{bmatrix}, X = \\begin{bmatrix}\n",
    "x \\\\\n",
    "y \\\\\n",
    "z \\\\\n",
    "w \\\\\n",
    "t\n",
    "\\end{bmatrix}, b = \\begin{bmatrix}\n",
    "14 \\\\\n",
    "-2 \\\\\n",
    "10 \\\\\n",
    "16\n",
    "\\end{bmatrix}\n",
    "$$"
   ]
  },
  {
   "cell_type": "code",
   "execution_count": null,
   "metadata": {},
   "outputs": [],
   "source": [
    "# Επαλήθευση\n",
    "var(\"x, y, z, w, t\")\n",
    "A = matrix(ZZ, 4, 5, [3, 3, -1, 4, -2, 1, -1, 7, -1, 0, 5, 1, 13, 2, -2, 2, 4, -8, 5, -2])\n",
    "X = vector(SR, [x, y, z, w, t])   # συμβολικό διάνυσμα\n",
    "b = vector(ZZ, [14, -2, 10, 16])\n",
    "\n",
    "LHS = A*X   # το αριστερό μέλος της εξίσωσης πινάκων AX=b.\n",
    "RHS = b     # το δεξιό μέλος της εξίσωσης πινάκων AX=b.\n",
    "\n",
    "# Ο επόμενος βρόχος θα αναπαράγει τις εξισώσεις συστήματός μας.\n",
    "for i in range(A.nrows()):\n",
    "    print( str(LHS[i]) + \" = \" + str(RHS[i]) )"
   ]
  },
  {
   "cell_type": "markdown",
   "metadata": {},
   "source": [
    "<b>Σχόλιο:</b> Εάν το διάνυσμα $b$ είναι το μηδενικό διάνυσμα, τότε το αντίστοιχο σύστημα λέγεται ομογενές, διαφορετικά λέγεται μη-ομογενές.\n",
    "\n",
    "### Επαυξημένος Πίνακας\n",
    "\n",
    "Αν $A$ είναι ένας $m \\times n$ πίνακας και $b$ ένα διάνυσμα του $\\mathbb{R}^m$, τότε ο επαυξημένος πίνακας $A|b$ είναι ο πίνακας που προκύπτει τοποθετώντας το διάνυσμα-στήλη $b$ στο τέλος του $A$. Στο SageMath, αυτός μπορεί να υπολογιστεί με τη μέθοδο `augment` του πίνακα `A`, δίνοντας ως όρισμα το διάνυσμα `b` που βρίσκεται στο δεξιό μέλος."
   ]
  },
  {
   "cell_type": "code",
   "execution_count": null,
   "metadata": {},
   "outputs": [],
   "source": [
    "A = matrix(ZZ, 4, 5, [3,3,-1,4,-2,1,-1,7,-1,0,5,1,13,2,-2,2,4,-8,5,-2])\n",
    "b = vector(ZZ, [14, -2, 10, 16])\n",
    "\n",
    "print(\"Ο πίνακας των συντελεστών του συστήματος είναι:\")\n",
    "show(A)\n",
    "\n",
    "print(\"Οι σταθεροί όροι του συστήματος είναι:\")\n",
    "show(b)\n",
    "\n",
    "print(\"Ο επαυξημένος πίνακας A|b του συστήματος είναι:\")\n",
    "show(A.augment(b, subdivide=True))"
   ]
  },
  {
   "cell_type": "markdown",
   "metadata": {},
   "source": [
    "Αν θέλουμε να εμφανίζεται και το διαχωριστικό, δίνουμε επιπλέον την τιμή `True` στην προαιρετική παράμετρο `subdivide` (η εξ ορισμού τιμή της είναι `False`).\n",
    "\n",
    "<b>Σχόλιο:</b> Ο επαυξημένος πίνακας χρησιμοποιείται για την επίλυση ενός γραμμικού αλγεβρικού συστήματος με τη μέθοδο της απαλοιφής του Gauss."
   ]
  },
  {
   "cell_type": "markdown",
   "metadata": {},
   "source": [
    "<b>Άσκηση:</b> Να υπολογίσετε τα αθροίσματα $A + B$ και τη διαφορά $A - B$ με τη βοήθεια του SageMath, όταν:\n",
    "<ol>\n",
    "    <li>\n",
    "    $$\n",
    "    A = \\left[\n",
    "    \\begin{array}{cc}\n",
    "    5 & -2 \\\\\n",
    "    1 & 3 \\\\\n",
    "    \\end{array} \\right], \\quad\n",
    "    B = \\left[\n",
    "    \\begin{array}{cc}\n",
    "    6 &  3 \\\\\n",
    "    -2 & 5 \\\\\n",
    "    \\end{array} \\right]\n",
    "    $$\n",
    "    </li>\n",
    "    <li>\n",
    "    $$\n",
    "    A = \\left[\n",
    "    \\begin{array}{cccc}\n",
    "    6 & 7 & 8 & 9 \\\\\n",
    "    5 & 6 & 7 & 8 \\\\\n",
    "    \\end{array} \\right], \\quad\n",
    "    B = \\left[\n",
    "    \\begin{array}{cccc}\n",
    "    5 & 6 & 7 & 8 \\\\\n",
    "    6 & 7 & 8 & 9 \\\\\n",
    "    \\end{array} \\right]\n",
    "    $$\n",
    "    </li>\n",
    "    <li>\n",
    "    $$\n",
    "    A = \\left[\n",
    "    \\begin{array}{ccc}\n",
    "    4 & 5 & 6 \\\\\n",
    "    \\end{array} \\right], \\quad\n",
    "    B = \\left[\n",
    "    \\begin{array}{ccc}\n",
    "    -4 & -5 & -6 \\\\\n",
    "    \\end{array} \\right]\n",
    "    $$\n",
    "    </li>\n",
    "    <li>\n",
    "    $$\n",
    "    A = \\left[\n",
    "    \\begin{array}{ccc}\n",
    "    5 & -1 & 2  \\\\\n",
    "    0 & 3  & 1  \\\\\n",
    "    6 & 2  & -1 \\\\\n",
    "    \\end{array} \\right], \\quad\n",
    "    B = \\left[\n",
    "    \\begin{array}{cc}\n",
    "    4 & 0  \\\\\n",
    "    3 & -1 \\\\\n",
    "    2 & 5  \\\\\n",
    "    \\end{array} \\right]\n",
    "    $$\n",
    "    </li>\n",
    "    <li>\n",
    "    $$\n",
    "    A = \\left[\n",
    "    \\begin{array}{ccc}\n",
    "    a & b & c  \\\\\n",
    "    x & y  & w  \\\\\n",
    "    k & l  & m \\\\\n",
    "    \\end{array} \\right], \\quad\n",
    "    B = \\left[\n",
    "    \\begin{array}{ccc}\n",
    "    1-a & -b  & -c  \\\\\n",
    "    -x  & 1-y & -w  \\\\\n",
    "    -k  & -l  & 1-m \\\\\n",
    "    \\end{array} \\right]\n",
    "    $$\n",
    "    </li>\n",
    "</ol>"
   ]
  }
 ],
 "metadata": {
  "kernelspec": {
   "display_name": "SageMath 9.1",
   "language": "sage",
   "name": "sagemath"
  },
  "language_info": {
   "codemirror_mode": {
    "name": "ipython",
    "version": 3
   },
   "file_extension": ".py",
   "mimetype": "text/x-python",
   "name": "python",
   "nbconvert_exporter": "python",
   "pygments_lexer": "ipython3",
   "version": "3.7.3"
  }
 },
 "nbformat": 4,
 "nbformat_minor": 1
}
